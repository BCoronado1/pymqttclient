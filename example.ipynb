{
 "cells": [
  {
   "cell_type": "code",
   "execution_count": 1,
   "id": "initial_id",
   "metadata": {
    "collapsed": true,
    "ExecuteTime": {
     "end_time": "2023-10-28T22:57:17.510641Z",
     "start_time": "2023-10-28T22:57:17.502782Z"
    }
   },
   "outputs": [],
   "source": [
    "from pymqttclient.client import MQTTClient"
   ]
  },
  {
   "cell_type": "code",
   "execution_count": 2,
   "outputs": [],
   "source": [
    "def a_on_msg(topic: str, payload: bytes):\n",
    "    print(f\"a_on_msg callback received topic: {topic} payload: {payload.decode()}\")"
   ],
   "metadata": {
    "collapsed": false,
    "ExecuteTime": {
     "end_time": "2023-10-28T22:57:18.350499Z",
     "start_time": "2023-10-28T22:57:18.344023Z"
    }
   },
   "id": "a3283379e6ad2158"
  },
  {
   "cell_type": "code",
   "execution_count": 3,
   "outputs": [],
   "source": [
    "def b_on_msg(topic: str, payload: bytes):\n",
    "    print(f\"b_on_msg callback received topic: {topic} payload: {payload.decode()}\")"
   ],
   "metadata": {
    "collapsed": false,
    "ExecuteTime": {
     "end_time": "2023-10-28T22:57:19.193680Z",
     "start_time": "2023-10-28T22:57:19.189960Z"
    }
   },
   "id": "4aa2fb836386f981"
  },
  {
   "cell_type": "code",
   "execution_count": 4,
   "outputs": [],
   "source": [
    "client_a = MQTTClient(callbacks={a_on_msg}, subscriptions={\"b_message\"})"
   ],
   "metadata": {
    "collapsed": false,
    "ExecuteTime": {
     "end_time": "2023-10-28T22:57:19.970609Z",
     "start_time": "2023-10-28T22:57:19.966789Z"
    }
   },
   "id": "92ce3a401fdd4061"
  },
  {
   "cell_type": "code",
   "execution_count": 5,
   "outputs": [],
   "source": [
    "client_b = MQTTClient(callbacks={b_on_msg}, subscriptions={\"a_message\"})"
   ],
   "metadata": {
    "collapsed": false,
    "ExecuteTime": {
     "end_time": "2023-10-28T22:57:20.961023Z",
     "start_time": "2023-10-28T22:57:20.955441Z"
    }
   },
   "id": "7999cef0c4c5b1fd"
  },
  {
   "cell_type": "code",
   "execution_count": 6,
   "outputs": [
    {
     "name": "stdout",
     "output_type": "stream",
     "text": [
      "b_on_msg callback received topic: a_message payload: Hello from a!\n"
     ]
    }
   ],
   "source": [
    "client_a.publish(topic=\"a_message\", payload=\"Hello from a!\".encode())"
   ],
   "metadata": {
    "collapsed": false,
    "ExecuteTime": {
     "end_time": "2023-10-28T22:57:22.091497Z",
     "start_time": "2023-10-28T22:57:22.088708Z"
    }
   },
   "id": "de5834e95d3d529d"
  },
  {
   "cell_type": "code",
   "execution_count": 7,
   "outputs": [
    {
     "name": "stdout",
     "output_type": "stream",
     "text": [
      "a_on_msg callback received topic: b_message payload: Hello from b!\n"
     ]
    }
   ],
   "source": [
    "client_b.publish(topic=\"b_message\", payload=\"Hello from b!\".encode())"
   ],
   "metadata": {
    "collapsed": false,
    "ExecuteTime": {
     "end_time": "2023-10-28T22:57:23.705656Z",
     "start_time": "2023-10-28T22:57:23.697634Z"
    }
   },
   "id": "ec9732c2e8d932e9"
  }
 ],
 "metadata": {
  "kernelspec": {
   "display_name": "Python 3",
   "language": "python",
   "name": "python3"
  },
  "language_info": {
   "codemirror_mode": {
    "name": "ipython",
    "version": 2
   },
   "file_extension": ".py",
   "mimetype": "text/x-python",
   "name": "python",
   "nbconvert_exporter": "python",
   "pygments_lexer": "ipython2",
   "version": "2.7.6"
  }
 },
 "nbformat": 4,
 "nbformat_minor": 5
}
