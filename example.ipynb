{
 "cells": [
  {
   "cell_type": "code",
   "id": "initial_id",
   "metadata": {
    "collapsed": true,
    "ExecuteTime": {
     "end_time": "2024-05-26T20:58:55.652723Z",
     "start_time": "2024-05-26T20:58:55.649833Z"
    }
   },
   "source": [
    "from pymqttclient.client import MQTTClient"
   ],
   "outputs": [],
   "execution_count": 9
  },
  {
   "cell_type": "code",
   "source": [
    "def a_on_msg(topic: str, payload: bytes):\n",
    "    print(f\"a_on_msg callback received topic: {topic} payload: {payload.decode()}\")"
   ],
   "metadata": {
    "collapsed": false,
    "ExecuteTime": {
     "end_time": "2024-05-26T20:58:55.657268Z",
     "start_time": "2024-05-26T20:58:55.655073Z"
    }
   },
   "id": "a3283379e6ad2158",
   "outputs": [],
   "execution_count": 10
  },
  {
   "cell_type": "code",
   "source": [
    "def b_on_msg(topic: str, payload: bytes):\n",
    "    print(f\"b_on_msg callback received topic: {topic} payload: {payload.decode()}\")"
   ],
   "metadata": {
    "collapsed": false,
    "ExecuteTime": {
     "end_time": "2024-05-26T20:58:55.661226Z",
     "start_time": "2024-05-26T20:58:55.658300Z"
    }
   },
   "id": "4aa2fb836386f981",
   "outputs": [],
   "execution_count": 11
  },
  {
   "cell_type": "code",
   "source": [
    "client_a = MQTTClient(callbacks={a_on_msg}, subscriptions={\"b_message\"})"
   ],
   "metadata": {
    "collapsed": false,
    "ExecuteTime": {
     "end_time": "2024-05-26T20:58:55.769122Z",
     "start_time": "2024-05-26T20:58:55.661835Z"
    }
   },
   "id": "92ce3a401fdd4061",
   "outputs": [],
   "execution_count": 12
  },
  {
   "cell_type": "code",
   "source": [
    "client_b = MQTTClient(callbacks={b_on_msg}, subscriptions={\"a_message\"})"
   ],
   "metadata": {
    "collapsed": false,
    "ExecuteTime": {
     "end_time": "2024-05-26T20:58:55.879217Z",
     "start_time": "2024-05-26T20:58:55.771347Z"
    }
   },
   "id": "7999cef0c4c5b1fd",
   "outputs": [],
   "execution_count": 13
  },
  {
   "cell_type": "code",
   "source": [
    "client_a.publish(topic=\"a_message\", payload=\"Hello from a!\".encode())"
   ],
   "metadata": {
    "collapsed": false,
    "ExecuteTime": {
     "end_time": "2024-05-26T20:58:55.884169Z",
     "start_time": "2024-05-26T20:58:55.880178Z"
    }
   },
   "id": "de5834e95d3d529d",
   "outputs": [
    {
     "name": "stdout",
     "output_type": "stream",
     "text": [
      "b_on_msg callback received topic: a_message payload: Hello from a!\n"
     ]
    }
   ],
   "execution_count": 14
  },
  {
   "cell_type": "code",
   "source": "client_b.publish(topic=\"b_message\", payload=\"Hello from b!\".encode())",
   "metadata": {
    "collapsed": false,
    "ExecuteTime": {
     "end_time": "2024-05-26T20:58:55.888438Z",
     "start_time": "2024-05-26T20:58:55.885998Z"
    }
   },
   "id": "ec9732c2e8d932e9",
   "outputs": [
    {
     "name": "stdout",
     "output_type": "stream",
     "text": [
      "a_on_msg callback received topic: b_message payload: Hello from b!\n"
     ]
    }
   ],
   "execution_count": 15
  },
  {
   "metadata": {
    "ExecuteTime": {
     "end_time": "2024-05-26T20:58:55.892308Z",
     "start_time": "2024-05-26T20:58:55.889629Z"
    }
   },
   "cell_type": "code",
   "source": [
    "client_a.cleanup()\n",
    "client_b.cleanup()"
   ],
   "id": "93dea52ee24648c3",
   "outputs": [],
   "execution_count": 16
  }
 ],
 "metadata": {
  "kernelspec": {
   "display_name": "Python 3",
   "language": "python",
   "name": "python3"
  },
  "language_info": {
   "codemirror_mode": {
    "name": "ipython",
    "version": 2
   },
   "file_extension": ".py",
   "mimetype": "text/x-python",
   "name": "python",
   "nbconvert_exporter": "python",
   "pygments_lexer": "ipython2",
   "version": "2.7.6"
  }
 },
 "nbformat": 4,
 "nbformat_minor": 5
}
