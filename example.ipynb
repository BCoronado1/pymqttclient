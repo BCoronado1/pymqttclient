{
 "cells": [
  {
   "cell_type": "code",
   "id": "initial_id",
   "metadata": {
    "collapsed": true,
    "ExecuteTime": {
     "end_time": "2024-05-04T23:34:31.315168Z",
     "start_time": "2024-05-04T23:34:31.299065Z"
    }
   },
   "source": [
    "from pymqttclient.client import MQTTClient"
   ],
   "outputs": [],
   "execution_count": 1
  },
  {
   "cell_type": "code",
   "source": [
    "def a_on_msg(topic: str, payload: bytes):\n",
    "    print(f\"a_on_msg callback received topic: {topic} payload: {payload.decode()}\")"
   ],
   "metadata": {
    "collapsed": false,
    "ExecuteTime": {
     "end_time": "2024-05-04T23:34:31.320513Z",
     "start_time": "2024-05-04T23:34:31.316968Z"
    }
   },
   "id": "a3283379e6ad2158",
   "outputs": [],
   "execution_count": 2
  },
  {
   "cell_type": "code",
   "source": [
    "def b_on_msg(topic: str, payload: bytes):\n",
    "    print(f\"b_on_msg callback received topic: {topic} payload: {payload.decode()}\")"
   ],
   "metadata": {
    "collapsed": false,
    "ExecuteTime": {
     "end_time": "2024-05-04T23:34:31.323848Z",
     "start_time": "2024-05-04T23:34:31.321653Z"
    }
   },
   "id": "4aa2fb836386f981",
   "outputs": [],
   "execution_count": 3
  },
  {
   "cell_type": "code",
   "source": [
    "client_a = MQTTClient(callbacks={a_on_msg}, subscriptions={\"b_message\"})"
   ],
   "metadata": {
    "collapsed": false,
    "ExecuteTime": {
     "end_time": "2024-05-04T23:34:31.433039Z",
     "start_time": "2024-05-04T23:34:31.324942Z"
    }
   },
   "id": "92ce3a401fdd4061",
   "outputs": [],
   "execution_count": 4
  },
  {
   "cell_type": "code",
   "source": [
    "client_b = MQTTClient(callbacks={b_on_msg}, subscriptions={\"a_message\"})"
   ],
   "metadata": {
    "collapsed": false,
    "ExecuteTime": {
     "end_time": "2024-05-04T23:34:31.542335Z",
     "start_time": "2024-05-04T23:34:31.434925Z"
    }
   },
   "id": "7999cef0c4c5b1fd",
   "outputs": [],
   "execution_count": 5
  },
  {
   "cell_type": "code",
   "source": [
    "client_a.publish(topic=\"a_message\", payload=\"Hello from a!\".encode())"
   ],
   "metadata": {
    "collapsed": false,
    "ExecuteTime": {
     "end_time": "2024-05-04T23:34:31.545406Z",
     "start_time": "2024-05-04T23:34:31.543072Z"
    }
   },
   "id": "de5834e95d3d529d",
   "outputs": [
    {
     "name": "stdout",
     "output_type": "stream",
     "text": [
      "b_on_msg callback received topic: a_message payload: Hello from a!\n"
     ]
    }
   ],
   "execution_count": 6
  },
  {
   "cell_type": "code",
   "source": [
    "client_b.publish(topic=\"b_message\", payload=\"Hello from b!\".encode())"
   ],
   "metadata": {
    "collapsed": false,
    "ExecuteTime": {
     "end_time": "2024-05-04T23:34:31.549462Z",
     "start_time": "2024-05-04T23:34:31.546642Z"
    }
   },
   "id": "ec9732c2e8d932e9",
   "outputs": [
    {
     "name": "stdout",
     "output_type": "stream",
     "text": [
      "a_on_msg callback received topic: b_message payload: Hello from b!\n"
     ]
    }
   ],
   "execution_count": 7
  }
 ],
 "metadata": {
  "kernelspec": {
   "display_name": "Python 3",
   "language": "python",
   "name": "python3"
  },
  "language_info": {
   "codemirror_mode": {
    "name": "ipython",
    "version": 2
   },
   "file_extension": ".py",
   "mimetype": "text/x-python",
   "name": "python",
   "nbconvert_exporter": "python",
   "pygments_lexer": "ipython2",
   "version": "2.7.6"
  }
 },
 "nbformat": 4,
 "nbformat_minor": 5
}
